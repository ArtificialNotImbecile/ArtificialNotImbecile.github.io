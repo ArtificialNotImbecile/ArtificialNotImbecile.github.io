{
 "cells": [
  {
   "cell_type": "markdown",
   "metadata": {},
   "source": [
    "# Notes\n",
    "`ret[dst + \"/box/b\"] = np.concatenate((v[:4], v))`\n",
    "> because classes 0 is bg in tensorpack implementation, and in regression it assumes\n",
    "> N x num_classes x 4, but in detectron2, it's N x num_categories(num_classes-1) x 4 \n",
    "> But cls_score both have the same dimension(num_classes)\n",
    "\n",
    "\n",
    "{RoiAlign, NMS, concate, etc} ops does not contain any parameters, so it's not appears in the weights."
   ]
  },
  {
   "cell_type": "code",
   "execution_count": 1,
   "metadata": {},
   "outputs": [
    {
     "name": "stdout",
     "output_type": "stream",
     "text": [
      "308\n"
     ]
    }
   ],
   "source": [
    "os.environ['CUDA_VISIBLE_DEVICES'] = '3'\n",
    "import torch\n",
    "# model_weights = torch.load(\"/notebooks/rtg_models/model_weights/model_anti_lift_pointrend_1012.pth\")\n",
    "model_weights = torch.load(\"/notebooks/smart_gate/model_weights/container_number_0602.pth\")\n",
    "model = model_weights['model']\n",
    "print(len(model))"
   ]
  },
  {
   "cell_type": "code",
   "execution_count": 2,
   "metadata": {},
   "outputs": [],
   "source": [
    "def _convert_conv(src, dst):\n",
    "    model.pop(f'{src}.weight')\n",
    "    if src + \".norm.weight\" in model:\n",
    "        model.pop(f'{src}.norm.weight')\n",
    "        model.pop(f'{src}.norm.bias')\n",
    "        model.pop(f'{src}.norm.running_var')\n",
    "        model.pop(f'{src}.norm.running_mean')\n",
    "    if src + \".bias\" in model:\n",
    "        model.pop(f'{src}.bias')\n",
    "    print(src, \"->\", dst)"
   ]
  },
  {
   "cell_type": "code",
   "execution_count": 3,
   "metadata": {},
   "outputs": [
    {
     "name": "stdout",
     "output_type": "stream",
     "text": [
      "torch.Size([64, 3, 7, 7])\n",
      "backbone.bottom_up.stem.conv1 -> conv0\n"
     ]
    }
   ],
   "source": [
    "# conv0\n",
    "print(model['backbone.bottom_up.stem.conv1.weight'].shape) #cout, cin, h, w\n",
    "_convert_conv('backbone.bottom_up.stem.conv1', 'conv0')"
   ]
  },
  {
   "cell_type": "code",
   "execution_count": 4,
   "metadata": {},
   "outputs": [
    {
     "name": "stdout",
     "output_type": "stream",
     "text": [
      "backbone.bottom_up.res2.0.conv1 -> group0/block0/conv1\n",
      "backbone.bottom_up.res2.0.conv2 -> group0/block0/conv2\n",
      "backbone.bottom_up.res2.0.conv3 -> group0/block0/conv3\n",
      "backbone.bottom_up.res2.0.shortcut -> group0/block0/convshortcut\n",
      "backbone.bottom_up.res2.1.conv1 -> group0/block1/conv1\n",
      "backbone.bottom_up.res2.1.conv2 -> group0/block1/conv2\n",
      "backbone.bottom_up.res2.1.conv3 -> group0/block1/conv3\n",
      "backbone.bottom_up.res2.2.conv1 -> group0/block2/conv1\n",
      "backbone.bottom_up.res2.2.conv2 -> group0/block2/conv2\n",
      "backbone.bottom_up.res2.2.conv3 -> group0/block2/conv3\n",
      "backbone.bottom_up.res3.0.conv1 -> group1/block0/conv1\n",
      "backbone.bottom_up.res3.0.conv2 -> group1/block0/conv2\n",
      "backbone.bottom_up.res3.0.conv3 -> group1/block0/conv3\n",
      "backbone.bottom_up.res3.0.shortcut -> group1/block0/convshortcut\n",
      "backbone.bottom_up.res3.1.conv1 -> group1/block1/conv1\n",
      "backbone.bottom_up.res3.1.conv2 -> group1/block1/conv2\n",
      "backbone.bottom_up.res3.1.conv3 -> group1/block1/conv3\n",
      "backbone.bottom_up.res3.2.conv1 -> group1/block2/conv1\n",
      "backbone.bottom_up.res3.2.conv2 -> group1/block2/conv2\n",
      "backbone.bottom_up.res3.2.conv3 -> group1/block2/conv3\n",
      "backbone.bottom_up.res3.3.conv1 -> group1/block3/conv1\n",
      "backbone.bottom_up.res3.3.conv2 -> group1/block3/conv2\n",
      "backbone.bottom_up.res3.3.conv3 -> group1/block3/conv3\n",
      "backbone.bottom_up.res4.0.conv1 -> group2/block0/conv1\n",
      "backbone.bottom_up.res4.0.conv2 -> group2/block0/conv2\n",
      "backbone.bottom_up.res4.0.conv3 -> group2/block0/conv3\n",
      "backbone.bottom_up.res4.0.shortcut -> group2/block0/convshortcut\n",
      "backbone.bottom_up.res4.1.conv1 -> group2/block1/conv1\n",
      "backbone.bottom_up.res4.1.conv2 -> group2/block1/conv2\n",
      "backbone.bottom_up.res4.1.conv3 -> group2/block1/conv3\n",
      "backbone.bottom_up.res4.2.conv1 -> group2/block2/conv1\n",
      "backbone.bottom_up.res4.2.conv2 -> group2/block2/conv2\n",
      "backbone.bottom_up.res4.2.conv3 -> group2/block2/conv3\n",
      "backbone.bottom_up.res4.3.conv1 -> group2/block3/conv1\n",
      "backbone.bottom_up.res4.3.conv2 -> group2/block3/conv2\n",
      "backbone.bottom_up.res4.3.conv3 -> group2/block3/conv3\n",
      "backbone.bottom_up.res4.4.conv1 -> group2/block4/conv1\n",
      "backbone.bottom_up.res4.4.conv2 -> group2/block4/conv2\n",
      "backbone.bottom_up.res4.4.conv3 -> group2/block4/conv3\n",
      "backbone.bottom_up.res4.5.conv1 -> group2/block5/conv1\n",
      "backbone.bottom_up.res4.5.conv2 -> group2/block5/conv2\n",
      "backbone.bottom_up.res4.5.conv3 -> group2/block5/conv3\n",
      "backbone.bottom_up.res5.0.conv1 -> group3/block0/conv1\n",
      "backbone.bottom_up.res5.0.conv2 -> group3/block0/conv2\n",
      "backbone.bottom_up.res5.0.conv3 -> group3/block0/conv3\n",
      "backbone.bottom_up.res5.0.shortcut -> group3/block0/convshortcut\n",
      "backbone.bottom_up.res5.1.conv1 -> group3/block1/conv1\n",
      "backbone.bottom_up.res5.1.conv2 -> group3/block1/conv2\n",
      "backbone.bottom_up.res5.1.conv3 -> group3/block1/conv3\n",
      "backbone.bottom_up.res5.2.conv1 -> group3/block2/conv1\n",
      "backbone.bottom_up.res5.2.conv2 -> group3/block2/conv2\n",
      "backbone.bottom_up.res5.2.conv3 -> group3/block2/conv3\n"
     ]
    }
   ],
   "source": [
    "# group0:3\n",
    "backbone_prefix = \"backbone.bottom_up.\"\n",
    "for grpid in range(4):\n",
    "    for blkid in range([3, 4, 6, 3][grpid]):\n",
    "        _convert_conv(backbone_prefix + f\"res{grpid + 2}.{blkid}.conv1\",\n",
    "                      f\"group{grpid}/block{blkid}/conv1\")\n",
    "        _convert_conv(backbone_prefix + f\"res{grpid + 2}.{blkid}.conv2\",\n",
    "                      f\"group{grpid}/block{blkid}/conv2\")\n",
    "        _convert_conv(backbone_prefix + f\"res{grpid + 2}.{blkid}.conv3\",\n",
    "                      f\"group{grpid}/block{blkid}/conv3\")\n",
    "        if blkid == 0:\n",
    "            _convert_conv(backbone_prefix + f\"res{grpid + 2}.{blkid}.shortcut\",\n",
    "                          f\"group{grpid}/block{blkid}/convshortcut\")"
   ]
  },
  {
   "cell_type": "code",
   "execution_count": 5,
   "metadata": {},
   "outputs": [
    {
     "name": "stdout",
     "output_type": "stream",
     "text": [
      "backbone.fpn_lateral3 -> fpn/lateral_1x1_c3\n",
      "backbone.fpn_output3 -> fpn/posthoc_3x3_p3\n",
      "backbone.fpn_lateral4 -> fpn/lateral_1x1_c4\n",
      "backbone.fpn_output4 -> fpn/posthoc_3x3_p4\n",
      "backbone.fpn_lateral5 -> fpn/lateral_1x1_c5\n",
      "backbone.fpn_output5 -> fpn/posthoc_3x3_p5\n"
     ]
    }
   ],
   "source": [
    "# fpn lateral\n",
    "for lvl in range(3, 6):\n",
    "    _convert_conv(f\"backbone.fpn_lateral{lvl}\", f\"fpn/lateral_1x1_c{lvl}\")\n",
    "    _convert_conv(f\"backbone.fpn_output{lvl}\", f\"fpn/posthoc_3x3_p{lvl}\")"
   ]
  },
  {
   "cell_type": "code",
   "execution_count": 6,
   "metadata": {},
   "outputs": [],
   "source": [
    "# non-relevant ones\n",
    "model.pop('pixel_mean')\n",
    "model.pop('pixel_std')\n",
    "for k in list(model.keys()):\n",
    "    if \"cell_anchors\" in k:\n",
    "        model.pop(k)"
   ]
  },
  {
   "cell_type": "code",
   "execution_count": 7,
   "metadata": {
    "scrolled": false
   },
   "outputs": [
    {
     "name": "stdout",
     "output_type": "stream",
     "text": [
      "backbone.top_block.p6.weight\n",
      "backbone.top_block.p6.bias\n",
      "backbone.top_block.p7.weight\n",
      "backbone.top_block.p7.bias\n",
      "head.cls_subnet.0.weight\n",
      "head.cls_subnet.0.bias\n",
      "head.cls_subnet.2.weight\n",
      "head.cls_subnet.2.bias\n",
      "head.cls_subnet.4.weight\n",
      "head.cls_subnet.4.bias\n",
      "head.cls_subnet.6.weight\n",
      "head.cls_subnet.6.bias\n",
      "head.bbox_subnet.0.weight\n",
      "head.bbox_subnet.0.bias\n",
      "head.bbox_subnet.2.weight\n",
      "head.bbox_subnet.2.bias\n",
      "head.bbox_subnet.4.weight\n",
      "head.bbox_subnet.4.bias\n",
      "head.bbox_subnet.6.weight\n",
      "head.bbox_subnet.6.bias\n",
      "head.cls_score.weight\n",
      "head.cls_score.bias\n",
      "head.bbox_pred.weight\n",
      "head.bbox_pred.bias\n"
     ]
    }
   ],
   "source": [
    "# remaining keys\n",
    "for key, item in model.items():\n",
    "    print(key)"
   ]
  },
  {
   "cell_type": "code",
   "execution_count": null,
   "metadata": {},
   "outputs": [],
   "source": []
  },
  {
   "cell_type": "code",
   "execution_count": null,
   "metadata": {},
   "outputs": [],
   "source": []
  },
  {
   "cell_type": "code",
   "execution_count": null,
   "metadata": {},
   "outputs": [],
   "source": []
  },
  {
   "cell_type": "code",
   "execution_count": null,
   "metadata": {},
   "outputs": [],
   "source": []
  },
  {
   "cell_type": "code",
   "execution_count": null,
   "metadata": {},
   "outputs": [],
   "source": []
  },
  {
   "cell_type": "code",
   "execution_count": null,
   "metadata": {},
   "outputs": [],
   "source": []
  },
  {
   "cell_type": "code",
   "execution_count": null,
   "metadata": {},
   "outputs": [],
   "source": []
  }
 ],
 "metadata": {
  "kernelspec": {
   "display_name": "Python 3",
   "language": "python",
   "name": "python3"
  },
  "language_info": {
   "codemirror_mode": {
    "name": "ipython",
    "version": 3
   },
   "file_extension": ".py",
   "mimetype": "text/x-python",
   "name": "python",
   "nbconvert_exporter": "python",
   "pygments_lexer": "ipython3",
   "version": "3.6.9"
  }
 },
 "nbformat": 4,
 "nbformat_minor": 4
}
