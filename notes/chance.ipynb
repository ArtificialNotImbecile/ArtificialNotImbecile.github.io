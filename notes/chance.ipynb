{
 "cells": [
  {
   "cell_type": "code",
   "execution_count": 15,
   "id": "11a9f10a",
   "metadata": {},
   "outputs": [],
   "source": [
    "all_number = np.arange(1, 49)\n",
    "odds = 10"
   ]
  },
  {
   "cell_type": "code",
   "execution_count": 145,
   "id": "1ae636f2",
   "metadata": {},
   "outputs": [],
   "source": [
    "keys = [\n",
    "[10,12,47],\n",
    "[48,26,43],\n",
    "[19,23,45],\n",
    "[13, 18, 26],\n",
    "[37,45,27],\n",
    "[23,29,35],\n",
    "[15, 26, 36], [1, 9, 30],[16,27,33],\n",
    "[37,14, 31], [7, 18, 29], [48,40,33],\n",
    "[29,41,47],[9, 45, 48], [46,26,15],\n",
    "[28, 42, 46], [8, 14, 30], [48, 26, 19],\n",
    "[18, 19, 40], [10,14,15], [44,30,35]\n",
    "]\n",
    "\n",
    "values = [500, 600, 600, 600, 550, 650, 500, 500, 600,\n",
    "         650, 600, 650,\n",
    "         400, 650, 400,\n",
    "         600, 500, 600,\n",
    "         520, 550, 400]"
   ]
  },
  {
   "cell_type": "code",
   "execution_count": 149,
   "id": "aef72231",
   "metadata": {},
   "outputs": [
    {
     "data": {
      "text/plain": [
       "array([ 1,  7,  8,  9, 10, 12, 13, 14, 15, 16, 18, 19, 23, 26, 27, 28, 29,\n",
       "       30, 31, 33, 35, 36, 37, 40, 41, 42, 43, 44, 45, 46, 47, 48])"
      ]
     },
     "execution_count": 149,
     "metadata": {},
     "output_type": "execute_result"
    }
   ],
   "source": [
    "np.unique(keys)"
   ]
  },
  {
   "cell_type": "code",
   "execution_count": 107,
   "id": "9c55fe4f",
   "metadata": {},
   "outputs": [
    {
     "name": "stdout",
     "output_type": "stream",
     "text": [
      "0\n",
      "1\n",
      "6\n",
      "7\n",
      "8\n",
      "9\n",
      "14\n"
     ]
    }
   ],
   "source": [
    "good = keys[0]\n",
    "gain = 0\n",
    "loss = 0\n",
    "for idx, ks in enumerate(keys[1:]):\n",
    "    not_good = False\n",
    "    for k in ks:\n",
    "        if k in good:\n",
    "            not_good = True\n",
    "    if not_good:\n",
    "        pass\n",
    "    else:\n",
    "        print(idx)\n",
    "        gain += values[idx]\n",
    "        good.extend(ks)"
   ]
  },
  {
   "cell_type": "code",
   "execution_count": 152,
   "id": "f0057175",
   "metadata": {},
   "outputs": [
    {
     "name": "stdout",
     "output_type": "stream",
     "text": [
      "1 :  5000\n",
      "2 :  0\n",
      "3 :  0\n",
      "4 :  0\n",
      "5 :  0\n",
      "6 :  0\n",
      "7 :  6000\n",
      "8 :  5000\n",
      "9 :  11500\n",
      "10 :  10500\n",
      "11 :  0\n",
      "12 :  5000\n",
      "13 :  6000\n",
      "14 :  17000\n",
      "15 :  14500\n",
      "16 :  6000\n",
      "17 :  0\n",
      "18 :  17200\n",
      "19 :  17200\n",
      "20 :  0\n",
      "21 :  0\n",
      "22 :  0\n",
      "23 :  12500\n",
      "24 :  0\n",
      "25 :  0\n",
      "26 :  27000\n",
      "27 :  11500\n",
      "28 :  6000\n",
      "29 :  16500\n",
      "30 :  14000\n",
      "31 :  6500\n",
      "32 :  0\n",
      "33 :  12500\n",
      "34 :  0\n",
      "35 :  10500\n",
      "36 :  5000\n",
      "37 :  12000\n",
      "38 :  0\n",
      "39 :  0\n",
      "40 :  11700\n",
      "41 :  4000\n",
      "42 :  6000\n",
      "43 :  6000\n",
      "44 :  4000\n",
      "45 :  18000\n",
      "46 :  10000\n",
      "47 :  9000\n",
      "48 :  25000\n",
      "11620\n",
      "[5000, 0, 0, 0, 0, 0, 6000, 5000, 11500, 10500, 0, 5000, 6000, 17000, 14500, 6000, 0, 17200, 17200, 0, 0, 0, 12500, 0, 0, 27000, 11500, 6000, 16500, 14000, 6500, 0, 12500, 0, 10500, 5000, 12000, 0, 0, 11700, 4000, 6000, 6000, 4000, 18000, 10000, 9000, 25000]\n"
     ]
    }
   ],
   "source": [
    "reward = []\n",
    "for n in all_number:\n",
    "    r = 0\n",
    "    for k, v in zip(keys, values):\n",
    "        if n in k:\n",
    "            r += v*odds\n",
    "    reward.append(r)\n",
    "    print(n, ': ', r)\n",
    "print(sum(values))\n",
    "print(reward)"
   ]
  },
  {
   "cell_type": "code",
   "execution_count": 151,
   "id": "083edf40",
   "metadata": {},
   "outputs": [
    {
     "data": {
      "text/plain": [
       "7262.5"
      ]
     },
     "execution_count": 151,
     "metadata": {},
     "output_type": "execute_result"
    }
   ],
   "source": [
    "np.mean(reward)"
   ]
  },
  {
   "cell_type": "code",
   "execution_count": 133,
   "id": "a7b2b444",
   "metadata": {},
   "outputs": [],
   "source": [
    "ins = np.argsort(reward)"
   ]
  },
  {
   "cell_type": "code",
   "execution_count": 142,
   "id": "f0ec5c4d",
   "metadata": {},
   "outputs": [],
   "source": [
    "skips = ins[-10:] + 1\n",
    "keys_new = []\n",
    "values_new = []\n",
    "for k, v in zip(keys, values):\n",
    "    c = False\n",
    "    for skip in skips:\n",
    "        if skip in k:\n",
    "            c = True\n",
    "    if not c:\n",
    "        keys_new.append(k)\n",
    "        values_new.append(v)\n"
   ]
  },
  {
   "cell_type": "code",
   "execution_count": 143,
   "id": "8e939f64",
   "metadata": {},
   "outputs": [
    {
     "name": "stdout",
     "output_type": "stream",
     "text": [
      "6000 1062.5 1700\n",
      "[0, 0, 0, 0, 0, 0, 0, 0, 0, 5000, 0, 5000, 0, 0, 0, 6000, 0, 0, 0, 0, 0, 0, 0, 0, 0, 0, 6000, 6000, 0, 0, 0, 0, 6000, 0, 0, 0, 0, 0, 0, 0, 0, 6000, 0, 0, 0, 6000, 5000, 0]\n"
     ]
    }
   ],
   "source": [
    "reward = []\n",
    "for n in all_number:\n",
    "    r = 0\n",
    "    for k, v in zip(keys_new, values_new):\n",
    "        if n in k:\n",
    "            r += v*odds\n",
    "    reward.append(r)\n",
    "print(np.max(reward), np.mean(reward), np.sum(values_new))\n",
    "print(reward)"
   ]
  },
  {
   "cell_type": "code",
   "execution_count": null,
   "id": "712b9947",
   "metadata": {},
   "outputs": [],
   "source": []
  },
  {
   "cell_type": "code",
   "execution_count": null,
   "id": "cdd0494a",
   "metadata": {},
   "outputs": [],
   "source": []
  }
 ],
 "metadata": {
  "kernelspec": {
   "display_name": "Python 3",
   "language": "python",
   "name": "python3"
  },
  "language_info": {
   "codemirror_mode": {
    "name": "ipython",
    "version": 3
   },
   "file_extension": ".py",
   "mimetype": "text/x-python",
   "name": "python",
   "nbconvert_exporter": "python",
   "pygments_lexer": "ipython3",
   "version": "3.6.9"
  }
 },
 "nbformat": 4,
 "nbformat_minor": 5
}
