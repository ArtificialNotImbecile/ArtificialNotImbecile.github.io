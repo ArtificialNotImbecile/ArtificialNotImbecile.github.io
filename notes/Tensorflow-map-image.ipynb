{
 "cells": [
  {
   "cell_type": "code",
   "execution_count": null,
   "id": "4ffcd1b6",
   "metadata": {},
   "outputs": [],
   "source": [
    "from onceorauto.image.barrel_correct import auto_undistort, map_image\n",
    "import tensorflow as tf\n",
    "from tensorpack import Conv2D\n",
    "\n",
    "\n",
    "image = cv2.imread('./4k.jpg')\n",
    "with open('./4k.json', 'r') as f:\n",
    "    data = json.load(f)\n",
    "pt = data['shapes'][0]['points']\n",
    "pts = [np.array(pt)]\n",
    "\n",
    "image_t, c, r = auto_undistort(image, pts)\n",
    "\n",
    "\n",
    "map_x = r[:, 0].reshape((2160, 3840)).astype(np.half)\n",
    "map_y = r[:, 1].reshape((2160, 3840)).astype(np.half)\n",
    "map_yx = np.stack([map_y, map_x], axis=-1) # opencv 的 map\n",
    "# opencv map -> tf flow\n",
    "cor_xy = np.indices((2160, 3840)).transpose(1, 2, 0)\n",
    "flow = cor_xy - map_yx"
   ]
  },
  {
   "cell_type": "code",
   "execution_count": null,
   "id": "b1ddb24f",
   "metadata": {},
   "outputs": [],
   "source": [
    "inputs = tf.placeholder(tf.half, shape=[1, 2160, 3840, 3], name='image')\n",
    "inputs = Conv2D('conv2d1', inputs, filters=256, kernel_size=3)\n",
    "inputs = Conv2D('conv2d2', inputs, filters=3, kernel_size=3)\n",
    "flow_tf = tf.placeholder(tf.half, shape=[1, None, None, 2], name='flow')\n",
    "image_t_tf = tf.contrib.image.dense_image_warp(inputs, flow_tf)\n",
    "init = tf.global_variables_initializer()"
   ]
  },
  {
   "cell_type": "code",
   "execution_count": null,
   "id": "63bf6cbd",
   "metadata": {},
   "outputs": [],
   "source": [
    "sess = tf.Session()\n",
    "sess.run(init)"
   ]
  },
  {
   "cell_type": "code",
   "execution_count": null,
   "id": "acc2380f",
   "metadata": {},
   "outputs": [],
   "source": [
    "flow = np.expand_dims(flow, 0)\n",
    "image = np.expand_dims(image, 0)"
   ]
  },
  {
   "cell_type": "code",
   "execution_count": null,
   "id": "10a6bba9",
   "metadata": {},
   "outputs": [],
   "source": [
    "image = tf.data.experimental.prefetch_to_device()"
   ]
  },
  {
   "cell_type": "code",
   "execution_count": null,
   "id": "f7140e1a",
   "metadata": {},
   "outputs": [],
   "source": [
    "%%timeit\n",
    "out = tf.get_default_graph().get_tensor_by_name('conv2d2/output:0')\n",
    "outputs = sess.run(out, feed_dict={\"image:0\":image, \"flow:0\":flow})"
   ]
  },
  {
   "cell_type": "code",
   "execution_count": null,
   "id": "ed0796b1",
   "metadata": {},
   "outputs": [],
   "source": [
    "%%timeit\n",
    "outputs = sess.run(image_t_tf, feed_dict={\"image:0\":image, \"flow:0\":flow})"
   ]
  },
  {
   "cell_type": "code",
   "execution_count": null,
   "id": "3d35b4f5",
   "metadata": {},
   "outputs": [],
   "source": [
    "plt.imshow(outputs[0].astype(np.uint8))"
   ]
  },
  {
   "cell_type": "code",
   "execution_count": null,
   "id": "e7364be2",
   "metadata": {},
   "outputs": [],
   "source": []
  }
 ],
 "metadata": {
  "kernelspec": {
   "display_name": "Python 3",
   "language": "python",
   "name": "python3"
  },
  "language_info": {
   "codemirror_mode": {
    "name": "ipython",
    "version": 3
   },
   "file_extension": ".py",
   "mimetype": "text/x-python",
   "name": "python",
   "nbconvert_exporter": "python",
   "pygments_lexer": "ipython3",
   "version": "3.6.9"
  }
 },
 "nbformat": 4,
 "nbformat_minor": 5
}
