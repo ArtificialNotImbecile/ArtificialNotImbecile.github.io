{
 "cells": [
  {
   "cell_type": "code",
   "execution_count": null,
   "id": "1930e457",
   "metadata": {},
   "outputs": [],
   "source": [
    "# https://math.stackexchange.com/questions/494238/how-to-compute-homography-matrix-h-from-corresponding-points-2d-2d-planar-homog\n",
    "# https://stackoverflow.com/questions/25658443/calculating-scale-rotation-and-translation-from-homography-matrix?noredirect=1&lq=1"
   ]
  },
  {
   "cell_type": "code",
   "execution_count": null,
   "id": "a24045b9",
   "metadata": {},
   "outputs": [],
   "source": [
    "def decompose_homography(H):\n",
    "    \"\"\"\n",
    "    translation: \n",
    "        (x, y) -> (x + tx, y+ty) which equals to\n",
    "        (x', y') = M(x, y), where M = [[1, 0, tx], [0, 1, ty]]\n",
    "    \n",
    "    scale:\n",
    "        (x, y) -> (p*x, r*y) which equals to \n",
    "        (x', y') = M(x, y), where M = [[p, 0], [0, r]]\n",
    "\n",
    "    shear(y direction, if we want x direction, just transpose all_M):\n",
    "        (x, y) -> (x, y + q*x) which equals to \n",
    "        (x', y') = M(x, y), where M = [[1, 0], [q, 0]]\n",
    "    \n",
    "    rotate(clock-wise, if we want anti-clockwise, just transpose all_M):\n",
    "        (x', y') = M(x, y), where M = [[cos_phi, sin_phi], [-sin_phi, cos_phi]]\n",
    "        see, https://math.stackexchange.com/questions/852530/whats-the-intuition-behind-the-2d-rotation-matrix\n",
    "    \"\"\"\n",
    "    tx = H[0, 2]\n",
    "    ty = H[1, 2]\n",
    "    trans_M = np.array([[1, 0, tx], [0, 1, ty]])\n",
    "    A = H[:2, :2]\n",
    "    detA = np.linalg.det(A)\n",
    "    a, b, d, e = A.reshape(-1,)\n",
    "    p = np.sqrt(a**2 + b**2)\n",
    "    r = detA/p\n",
    "    q = (a*d + b*e)/detA\n",
    "    phi = np.arctan2(b, a)\n",
    "    cos_phi = np.cos(phi)\n",
    "    sin_phi = np.sin(phi)\n",
    "    scale_M = np.array([[p, 0], [0, r]])\n",
    "    shear_M = np.array([[1, 0], [q, 1]])\n",
    "    rotate_M = np.array([[cos_phi, sin_phi], [-sin_phi, cos_phi]])\n",
    "    #assert np.allclose(scale_M@shear_M@rotate_M, A)\n",
    "    return trans_M, scale_M, shear_M, rotate_M"
   ]
  }
 ],
 "metadata": {
  "kernelspec": {
   "display_name": "Python 3",
   "language": "python",
   "name": "python3"
  },
  "language_info": {
   "codemirror_mode": {
    "name": "ipython",
    "version": 3
   },
   "file_extension": ".py",
   "mimetype": "text/x-python",
   "name": "python",
   "nbconvert_exporter": "python",
   "pygments_lexer": "ipython3",
   "version": "3.6.9"
  }
 },
 "nbformat": 4,
 "nbformat_minor": 5
}
