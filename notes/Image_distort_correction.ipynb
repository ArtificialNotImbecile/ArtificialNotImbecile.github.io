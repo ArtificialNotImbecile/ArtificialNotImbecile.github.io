{
 "cells": [
  {
   "cell_type": "code",
   "execution_count": 2,
   "metadata": {},
   "outputs": [],
   "source": [
    "def get_mapping_relation(height, width, a=0.0, b=0, c=-0.2, d=1.0):\n",
    "    \"\"\"\n",
    "    Args:\n",
    "        image(np.array, [H, W, 3]): original image\n",
    "        a(float): affects only the outermost pixels of the image(x^4)\n",
    "        b(float): most cases only require b optimization(x^3)\n",
    "        c(float): most uniform correction(x^2)\n",
    "        d(float): describes the linear scaling of the image(x)\n",
    "    Returns:\n",
    "        location_of_dest_image(np.array): destination of the original image index\n",
    "    \"\"\"\n",
    "    x, y = np.meshgrid(range(width), range(height))\n",
    "    x = x.reshape(-1)\n",
    "    y = y.reshape(-1)\n",
    "    location_of_source_image = np.stack([x, y], 1)\n",
    "\n",
    "    center_x = x.mean()\n",
    "    center_y = y.mean()\n",
    "    center = np.array([center_x, center_y])\n",
    "    norm = np.linalg.norm(center)\n",
    "    dist = np.sqrt(((location_of_source_image - center) ** 2).sum(1))\n",
    "    r = np.sqrt(((x - center_x) / norm) ** 2 + ((y - center_y) / norm) ** 2) # r=dist/norm, r in [0, 1]\n",
    "    rdest = (a * r ** 4 + b * r ** 3 + c * r ** 2 + d * r) * norm\n",
    "    target_x = rdest / dist * (x - center_x) + center_x\n",
    "    target_y = rdest / dist * (y - center_y) + center_y\n",
    "    location_of_dest_image = np.stack([target_x, target_y], 1)\n",
    "    return location_of_dest_image.reshape((-1, 2))\n",
    "\n",
    "def map_image(image, map_array):\n",
    "    height, width = image.shape[:2]\n",
    "    map_x = map_array[:, 1].reshape((height, width)).astype(np.float32)\n",
    "    map_y = map_array[:, 0].reshape((height, width)).astype(np.float32)\n",
    "    mapped_img = cv2.remap(image, map_y, map_x, cv2.INTER_LINEAR)\n",
    "    return mapped_img\n",
    "\n",
    "def map_xy(x, y, x_c=639.5, y_c=359.5, c=-0.2, d=1):\n",
    "    norm = np.linalg.norm((x_c, y_c))\n",
    "    x_norm = (x - x_c)/norm\n",
    "    y_norm = (y- y_c)/norm\n",
    "    dist_relative = np.sqrt(x_norm**2 + y_norm**2)\n",
    "    dist_map_relative = c*dist_relative**2 + d*dist_relative\n",
    "    ratio = dist_map_relative/dist_relative # this is c*dist_relative + d\n",
    "    xm = ratio*(x-x_c) + x_c\n",
    "    ym = ratio*(y-y_c) + y_c\n",
    "    return xm, ym\n",
    "    \n"
   ]
  },
  {
   "cell_type": "markdown",
   "metadata": {},
   "source": [
    "# 解读\n",
    "get_mapping_relation的点[0,0]的数值表示在畸变后的图里这个点出现的位置, 所以在畸变后的图里去找这个点的数值就是这个点的数值，但是往往这个点并不是整数，所以需要进行插值：\n",
    "$$\n",
    "dst(x,y) = src(map\\_xy(x,y))\n",
    "$$\n",
    "where src is distort image, dst is the desire image.\n",
    "map_xy是get_mapping_relation的单点版本。\n",
    "我们可以写出$(map\\_xy)^{-1}$:  \n",
    "```\n",
    "x = g(xm, ym)...  \n",
    "y = h(ym, ym)... \n",
    "set:\n",
    "xm = e\n",
    "ym = f\n",
    "xc = g\n",
    "yc = h\n",
    "y/x = ym/xm # since they are on the same line\n",
    "solve (f-h)/(y-h) = d + c sqrt(((y e - g f)/nf)^2 + ((y - g)/n)^2) in wolfram alpha gives CRAZY long result , mayby I am wrong\n",
    "```"
   ]
  },
  {
   "cell_type": "code",
   "execution_count": null,
   "metadata": {},
   "outputs": [],
   "source": []
  },
  {
   "cell_type": "code",
   "execution_count": null,
   "metadata": {},
   "outputs": [],
   "source": []
  },
  {
   "cell_type": "code",
   "execution_count": null,
   "metadata": {},
   "outputs": [],
   "source": []
  },
  {
   "cell_type": "code",
   "execution_count": null,
   "metadata": {},
   "outputs": [],
   "source": []
  }
 ],
 "metadata": {
  "kernelspec": {
   "display_name": "Python 3",
   "language": "python",
   "name": "python3"
  },
  "language_info": {
   "codemirror_mode": {
    "name": "ipython",
    "version": 3
   },
   "file_extension": ".py",
   "mimetype": "text/x-python",
   "name": "python",
   "nbconvert_exporter": "python",
   "pygments_lexer": "ipython3",
   "version": "3.6.9"
  }
 },
 "nbformat": 4,
 "nbformat_minor": 4
}
