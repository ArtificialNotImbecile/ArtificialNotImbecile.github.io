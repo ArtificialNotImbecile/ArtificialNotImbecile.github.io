{
 "cells": [
  {
   "cell_type": "code",
   "execution_count": 1,
   "metadata": {},
   "outputs": [],
   "source": [
    "%load_ext autoreload\n",
    "%autoreload 2"
   ]
  },
  {
   "cell_type": "markdown",
   "metadata": {},
   "source": [
    "# 自己瞎折腾的部分"
   ]
  },
  {
   "cell_type": "code",
   "execution_count": null,
   "metadata": {},
   "outputs": [],
   "source": [
    "def get_mapping_relation_pincushion(height, width, a=0.0, b=0, c=-0.2, d=1.0):\n",
    "    \"\"\"\n",
    "    Args:\n",
    "        image(np.array, [H, W, 3]): original image\n",
    "        a(float): affects only the outermost pixels of the image(x^4)\n",
    "        b(float): most cases only require b optimization(x^3)\n",
    "        c(float): most uniform correction(x^2)\n",
    "        d(float): describes the linear scaling of the image(x)\n",
    "    Returns:\n",
    "        location_of_dest_image(np.array): destination of the original image index\n",
    "    \"\"\"\n",
    "    x, y = np.meshgrid(range(width), range(height))\n",
    "    x = x.reshape(-1)\n",
    "    y = y.reshape(-1)\n",
    "    location_of_source_image = np.stack([x, y], 1)\n",
    "\n",
    "    center_x = x.mean()\n",
    "    center_y = y.mean()\n",
    "    center = np.array([center_x, center_y])\n",
    "    norm = np.linalg.norm(center)\n",
    "    dist = np.sqrt(((location_of_source_image - center) ** 2).sum(1))\n",
    "    r = np.sqrt(((x - center_x) / norm) ** 2 + ((y - center_y) / norm) ** 2) # r=dist/norm, r in [0, 1]\n",
    "    rdest = (a * r ** 4 + b * r ** 3 + c * r ** 2 + d * r) * norm\n",
    "    target_x = rdest / dist * (x - center_x) + center_x\n",
    "    target_y = rdest / dist * (y - center_y) + center_y\n",
    "    location_of_dest_image = np.stack([target_x, target_y], 1)\n",
    "    return location_of_dest_image.reshape((-1, 2))\n",
    "\n",
    "def get_mapping_relation_barrel(height, width, a=0.0, b=0, c=-0.2, d=1.0):\n",
    "    x, y = np.meshgrid(range(width), range(height))\n",
    "    x = x.reshape(-1)\n",
    "    y = y.reshape(-1)\n",
    "    location_of_source_image = np.stack([x, y], 1)\n",
    "\n",
    "    center_x = x.mean()\n",
    "    center_y = y.mean()\n",
    "    center = np.array([center_x, center_y])\n",
    "    norm = np.linalg.norm(center)\n",
    "    r = np.sqrt(((x - center_x) / norm) ** 2 + ((y - center_y) / norm) ** 2)\n",
    "    ratio = 1/(c*r**2 + d) # this is the key difference\n",
    "    target_x = ratio * (x - center_x) + center_x\n",
    "    target_y = ratio * (y - center_y) + center_y\n",
    "    location_of_dest_image = np.stack([target_x, target_y], 1)\n",
    "    return location_of_dest_image.reshape((-1, 2))\n",
    "\n",
    "\n",
    "\n",
    "def map_image(image, map_array):\n",
    "    height, width = image.shape[:2]\n",
    "    map_x = map_array[:, 1].reshape((height, width)).astype(np.float32)\n",
    "    map_y = map_array[:, 0].reshape((height, width)).astype(np.float32)\n",
    "    mapped_img = cv2.remap(image, map_y, map_x, cv2.INTER_LINEAR)\n",
    "    return mapped_img\n",
    "\n",
    "\n",
    "# NOTE, this map_xy is return xy and get_mapping_relation is return yx\n",
    "def map_xy(x, y, x_c=639.5, y_c=359.5, c=-0.2, d=1):\n",
    "    \"\"\"\n",
    "    ratio: 比例 > 1就是桶形畸变，< 1 就是枕形畸变 ！！！这个不对，要看直线变换后变成什么样了才知道，而不是一个点\n",
    "    Formulation:\n",
    "        xm = ratio*(x-x_c) + x_c\n",
    "        ym = ratio*(y-y_c) + y_c\n",
    "        很容易理解，就是把x_c和y_c当成新的坐标系零点, 此时[x - x_c, y - y_c]就是一个向量\n",
    "        我们乘以这个向量<1的ratio，则缩小(朝着零点方向), 就是枕形畸变\n",
    "        我们乘以这个向量>1的ratio，则放大(远离零点方向), 就是桶形畸变\n",
    "    \n",
    "    所以我们一般设置d=1, 由c来控制正负。这样c*dist_relative就表示了到底是往哪边偏,\n",
    "        c > 0的情况下就是往外(桶形)\n",
    "        c < 0的情况下就是往里(枕形)\n",
    "    \n",
    "    \"\"\"\n",
    "    norm = np.linalg.norm((x_c, y_c))\n",
    "    x_norm = (x - x_c)/norm\n",
    "    y_norm = (y- y_c)/norm\n",
    "    dist_relative = np.sqrt(x_norm**2 + y_norm**2)\n",
    "    dist_map_relative = c*dist_relative**2 + d*dist_relative\n",
    "    ratio = dist_map_relative/dist_relative # this is c*dist_relative + d\n",
    "    xm = ratio*(x-x_c) + x_c\n",
    "    ym = ratio*(y-y_c) + y_c\n",
    "    return xm, ym\n",
    "\n",
    "def map_xy_pin(x, y, x_c=639.5, y_c=359.5, c=-0.2, d=1):\n",
    "    \"\"\"\n",
    "    ratio: 比例 > 1就是桶形畸变，< 1 就是枕形畸变 ！！！这个不对，要看直线变换后变成什么样了才知道，而不是一个点\n",
    "    Formulation:\n",
    "        xm = ratio*(x-x_c) + x_c\n",
    "        ym = ratio*(y-y_c) + y_c\n",
    "        很容易理解，就是把x_c和y_c当成新的坐标系零点, 此时[x - x_c, y - y_c]就是一个向量\n",
    "        我们乘以这个向量<1的ratio，则缩小(朝着零点方向), 就是枕形畸变\n",
    "        我们乘以这个向量>1的ratio，则放大(远离零点方向), 就是桶形畸变\n",
    "    \n",
    "    所以我们一般设置d=1, 由c来控制正负。这样c*dist_relative就表示了到底是往哪边偏,\n",
    "        c > 0的情况下就是往外(桶形)\n",
    "        c < 0的情况下就是往里(枕形)\n",
    "    \n",
    "    \"\"\"\n",
    "    norm = np.linalg.norm((x_c, y_c))\n",
    "    x_norm = (x - x_c)/norm\n",
    "    y_norm = (y- y_c)/norm\n",
    "    dist_relative = np.sqrt(x_norm**2 + y_norm**2)\n",
    "    dist_map_relative = c*dist_relative**2 + d*dist_relative\n",
    "    ratio = dist_map_relative/dist_relative # this is c*dist_relative + d\n",
    "    xm = ratio*(x-x_c) + x_c\n",
    "    ym = ratio*(y-y_c) + y_c\n",
    "    return xm, ym\n",
    "\n",
    "# NOTE, this map_xy is return xy and get_mapping_relation is return yx\n",
    "def map_xy_barrel(x, y, x_c=639.5, y_c=359.5, c=-0.2, d=1):\n",
    "    \"\"\"\n",
    "    ratio: 比例 > 1就是桶形畸变，< 1 就是枕形畸变 ！！！这个不对，要看直线变换后变成什么样了才知道，而不是一个点\n",
    "    Formulation:\n",
    "        xm = ratio*(x-x_c) + x_c\n",
    "        ym = ratio*(y-y_c) + y_c\n",
    "        很容易理解，就是把x_c和y_c当成新的坐标系零点, 此时[x - x_c, y - y_c]就是一个向量\n",
    "        我们乘以这个向量<1的ratio，则缩小(朝着零点方向), 就是枕形畸变\n",
    "        我们乘以这个向量>1的ratio，则放大(远离零点方向), 就是桶形畸变\n",
    "    \n",
    "    所以我们一般设置d=1, 由c来控制正负。这样c*dist_relative就表示了到底是往哪边偏,\n",
    "        c > 0的情况下就是往外(桶形)\n",
    "        c < 0的情况下就是往里(枕形)\n",
    "    \n",
    "    \"\"\"\n",
    "    norm = np.linalg.norm((x_c, y_c))\n",
    "    x_norm = (x - x_c)/norm\n",
    "    y_norm = (y- y_c)/norm\n",
    "    dist_relative = np.sqrt(x_norm**2 + y_norm**2)\n",
    "    dist_map_relative = c*dist_relative**3 + d*dist_relative\n",
    "    ratio = dist_relative/dist_map_relative # this is c*dist_relative + d\n",
    "    xm = ratio*(x-x_c) + x_c\n",
    "    ym = ratio*(y-y_c) + y_c\n",
    "    return xm, ym"
   ]
  },
  {
   "cell_type": "markdown",
   "metadata": {},
   "source": [
    "# barrel"
   ]
  },
  {
   "cell_type": "code",
   "execution_count": 32,
   "metadata": {},
   "outputs": [
    {
     "data": {
      "image/png": "[encoded data removed]",
      "text/plain": [
       "<Figure size 720x360 with 1 Axes>"
      ]
     },
     "metadata": {
      "needs_background": "light"
     },
     "output_type": "display_data"
    }
   ],
   "source": [
    "xs = list(range(50))\n",
    "ys = [9]*len(xs)\n",
    "out_xs = []\n",
    "out_ys = []\n",
    "for x in xs:\n",
    "    out_x, out_y = map_xy_barrel(x, 9, 10, 10, 0.2, 1)\n",
    "    out_xs.append(out_x)\n",
    "    out_ys.append(out_y)\n",
    "fig, axs = plt.subplots(1, 1, figsize=(10, 5))\n",
    "\n",
    "plt.plot(xs, ys)\n",
    "plt.plot(out_xs, out_ys)\n",
    "# plt.scatter(0, 0)\n",
    "plt.scatter(10, 10)\n",
    "\n",
    "axs.set_ylim(axs.get_ylim()[::-1])# invert the axis     \n",
    "axs.xaxis.tick_top()             # and move the X-Axis    "
   ]
  },
  {
   "cell_type": "markdown",
   "metadata": {},
   "source": [
    "# pincushion"
   ]
  },
  {
   "cell_type": "code",
   "execution_count": 19,
   "metadata": {},
   "outputs": [
    {
     "data": {
      "image/png": "[encoded data removed]",
      "text/plain": [
       "<Figure size 720x360 with 1 Axes>"
      ]
     },
     "metadata": {
      "needs_background": "light"
     },
     "output_type": "display_data"
    }
   ],
   "source": [
    "xs = list(range(50))\n",
    "ys = [9]*len(xs)\n",
    "out_xs = []\n",
    "out_ys = []\n",
    "for x in xs:\n",
    "    out_x, out_y = map_xy(x, 9, 10, 10, 0.2, 1)\n",
    "    out_xs.append(out_x)\n",
    "    out_ys.append(out_y)\n",
    "fig, axs = plt.subplots(1, 1, figsize=(10, 5))\n",
    "\n",
    "plt.plot(xs, ys)\n",
    "plt.plot(out_xs, out_ys)\n",
    "# plt.scatter(0, 0)\n",
    "plt.scatter(10, 10)\n",
    "\n",
    "axs.set_ylim(axs.get_ylim()[::-1])# invert the axis     \n",
    "axs.xaxis.tick_top()             # and move the X-Axis    "
   ]
  },
  {
   "cell_type": "markdown",
   "metadata": {},
   "source": [
    "# 解读\n",
    "get_mapping_relation的点[0,0]的数值表示在畸变后的图里这个点出现的位置, 所以在畸变后的图里去找这个点的数值就是这个点的数值，但是往往这个点并不是整数，所以需要进行插值：\n",
    "$$\n",
    "dst(x,y) = src(map\\_xy(x,y))\n",
    "$$\n",
    "where src is distort image, dst is the desire image.\n",
    "map_xy是get_mapping_relation的单点版本。\n",
    "我们可以写出$(map\\_xy)^{-1}$:  \n",
    "```\n",
    "x = g(xm, ym)...  \n",
    "y = h(ym, ym)... \n",
    "set:\n",
    "xm = e\n",
    "ym = f\n",
    "xc = g\n",
    "yc = h\n",
    "y/x = ym/xm # since they are on the same line\n",
    "solve (f-h)/(y-h) = d + c sqrt(((y e - g f)/nf)^2 + ((y - g)/n)^2) in wolfram alpha gives CRAZY long result , mayby I am wrong\n",
    "```"
   ]
  },
  {
   "cell_type": "code",
   "execution_count": 1,
   "metadata": {},
   "outputs": [],
   "source": [
    "x, y = np.meshgrid(range(10), range(10))"
   ]
  },
  {
   "cell_type": "markdown",
   "metadata": {},
   "source": [
    "# 开始严谨(paper)\n",
    "\n",
    "1. Review of geometric distortion compensation in fish-eye cameras\n",
    "\n",
    "- polynomial model:\n",
    "    $$\n",
    "    \\frac{x_u}{x_d} = \\frac{r_u}{r_d} \\\\\n",
    "    \\implies x_d = x_u\\frac{r_d}{r_u}\\\\\n",
    "    \\implies x_d = L(r)x_u,\\quad L(r) = \\frac{r_d}{r_u}\\\\\n",
    "    \\text{Do the same for y:   }y_d = L(r)y_u \\\\\n",
    "    \\implies {x_d \\choose y_d} = L(r){x_u \\choose y_u}\\\\\n",
    "    \\text{In the paper: } r_d = r_u + k_1r_u^3 + \\cdots + k_nr_u^{2n+1} \\\\\n",
    "    \\implies L(r) = \\frac{r_d}{r_u} = 1 + k_1r_u^2 + \\cdots + k_nr_u^{2n}\n",
    "    $$\n",
    "which coincides with [An Iterative Optimization Algorithm for Lens Distortion\n",
    "Correction Using Two-Parameter Models](http://www.ipol.im/pub/art/2016/130/article.pdf)\n",
    "\n",
    "-division model:\n",
    "   $$\n",
    "    \\frac{x_u}{x_d} = \\frac{r_u}{r_d} \\\\\n",
    "    \\implies x_u = x_d\\frac{r_u}{r_d}\\\\\n",
    "    \\implies x_u = L(r)x_d,\\quad L(r) = \\frac{r_u}{r_d}\\\\\n",
    "    \\text{Do the same for y:   }y_u = L(r)y_d \\\\\n",
    "    \\implies {x_u \\choose y_u} = L(r){x_d \\choose y_d}\\\\\n",
    "    \\text{In the paper: } r_u = \\frac{r_d}{1 + k_1r_d^2 + \\cdots + k_nr_d^{2n}} \\\\\n",
    "    \\implies L(r) = \\frac{r_u}{r_d} = \\frac{1}{1 + k_1r_d^2 + \\cdots + k_nr_d^{2n}}\n",
    "    $$\n",
    "which also coincides with [An Iterative Optimization Algorithm for Lens Distortion\n",
    "Correction Using Two-Parameter Models](http://www.ipol.im/pub/art/2016/130/article.pdf)"
   ]
  },
  {
   "cell_type": "markdown",
   "metadata": {},
   "source": [
    "# "
   ]
  },
  {
   "cell_type": "code",
   "execution_count": null,
   "metadata": {},
   "outputs": [],
   "source": []
  },
  {
   "cell_type": "code",
   "execution_count": null,
   "metadata": {},
   "outputs": [],
   "source": []
  },
  {
   "cell_type": "code",
   "execution_count": null,
   "metadata": {},
   "outputs": [],
   "source": []
  },
  {
   "cell_type": "code",
   "execution_count": null,
   "metadata": {},
   "outputs": [],
   "source": []
  },
  {
   "cell_type": "code",
   "execution_count": null,
   "metadata": {},
   "outputs": [],
   "source": []
  },
  {
   "cell_type": "code",
   "execution_count": null,
   "metadata": {},
   "outputs": [],
   "source": []
  },
  {
   "cell_type": "code",
   "execution_count": null,
   "metadata": {},
   "outputs": [],
   "source": []
  },
  {
   "cell_type": "code",
   "execution_count": null,
   "metadata": {},
   "outputs": [],
   "source": []
  },
  {
   "cell_type": "code",
   "execution_count": null,
   "metadata": {},
   "outputs": [],
   "source": []
  },
  {
   "cell_type": "code",
   "execution_count": null,
   "metadata": {},
   "outputs": [],
   "source": []
  },
  {
   "cell_type": "code",
   "execution_count": null,
   "metadata": {},
   "outputs": [],
   "source": []
  },
  {
   "cell_type": "code",
   "execution_count": null,
   "metadata": {},
   "outputs": [],
   "source": []
  },
  {
   "cell_type": "code",
   "execution_count": null,
   "metadata": {},
   "outputs": [],
   "source": []
  },
  {
   "cell_type": "code",
   "execution_count": null,
   "metadata": {},
   "outputs": [],
   "source": []
  }
 ],
 "metadata": {
  "kernelspec": {
   "display_name": "Python 3",
   "language": "python",
   "name": "python3"
  },
  "language_info": {
   "codemirror_mode": {
    "name": "ipython",
    "version": 3
   },
   "file_extension": ".py",
   "mimetype": "text/x-python",
   "name": "python",
   "nbconvert_exporter": "python",
   "pygments_lexer": "ipython3",
   "version": "3.6.9"
  }
 },
 "nbformat": 4,
 "nbformat_minor": 4
}
