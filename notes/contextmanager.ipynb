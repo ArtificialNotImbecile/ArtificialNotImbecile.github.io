{
 "cells": [
  {
   "cell_type": "markdown",
   "id": "baf21152",
   "metadata": {},
   "source": [
    "# 理解了yiled就理解了contextmanager decorator"
   ]
  },
  {
   "cell_type": "markdown",
   "id": "86dc5d7d",
   "metadata": {},
   "source": [
    "\"At the point where the generator yields, the block nested in the with statement is executed. The generator is then resumed after the block is exited.\" [link](https://docs.python.org/3/library/contextlib.html)"
   ]
  },
  {
   "cell_type": "code",
   "execution_count": null,
   "id": "af05d1ed",
   "metadata": {},
   "outputs": [],
   "source": [
    "from contextlib import contextmanager\n",
    "\n",
    "@contextmanager\n",
    "def managed_resource(*args, **kwds):\n",
    "    # Code to acquire resource, e.g.:\n",
    "    resource = acquire_resource(*args, **kwds)\n",
    "    try:\n",
    "        yield resource # __enter__时执行到这一行，暂停住，返回resource给 `as` 的对象, 然后等 __exit__时候继续执行后面的，即finally什么的！\n",
    "    finally:\n",
    "        # Code to release resource, e.g.:\n",
    "        release_resource(resource)\n",
    "\n",
    ">>> with managed_resource(timeout=3600) as resource:\n",
    "...     # Resource is released at the end of this block,\n",
    "...     # even if code in the block raises an exception"
   ]
  }
 ],
 "metadata": {
  "kernelspec": {
   "display_name": "Python 3",
   "language": "python",
   "name": "python3"
  },
  "language_info": {
   "codemirror_mode": {
    "name": "ipython",
    "version": 3
   },
   "file_extension": ".py",
   "mimetype": "text/x-python",
   "name": "python",
   "nbconvert_exporter": "python",
   "pygments_lexer": "ipython3",
   "version": "3.6.9"
  }
 },
 "nbformat": 4,
 "nbformat_minor": 5
}
