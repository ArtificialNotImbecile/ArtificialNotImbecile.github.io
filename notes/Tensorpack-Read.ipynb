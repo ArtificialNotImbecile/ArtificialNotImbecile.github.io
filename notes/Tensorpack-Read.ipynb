{
 "cells": [
  {
   "cell_type": "markdown",
   "id": "7c762f9f",
   "metadata": {},
   "source": [
    "# Dataflow\n"
   ]
  },
  {
   "cell_type": "markdown",
   "id": "8f2af65c",
   "metadata": {},
   "source": [
    "- [x] ├── base.py \n",
    "- [x] ├── common.py NOTE@L434comprehension with sum can miss a [], neat!\n",
    "- [x] ├── format.py\n",
    "- [x] ├── image.py\n",
    "- [x] ├── \\_\\_init\\_\\_.py\n",
    "- [x] ├── parallel_map.py @TODO, learn about shared_memory of Pool\n",
    "- [x] ├── parallel.py @NOTE learnt that itertools.count() usage! and @contextmanager thanks to corountine understanding! something I don't understand: why fork is taken place differently on MultiprocessRunner vs MultiprocessRunnerZMQ? Why MultiprocessRunner doesn't repeat_iter? why MultiprocessRunner desn't use guard?(Because ZMQ socket can't be replicated but queue can, right?)\n",
    "- [x] ├── raw.py\n",
    "- [x] ├── remote.py\n",
    "- [x] ├── serialize.py # mimic the behaviour to write my eport serializer\n",
    "- [x] └── serialize_test.py\n",
    "- [x] ├── imgaug\n",
    "- [x] │   ├── base.py\n",
    "- [x] │   ├── convert.py\n",
    "- [x] │   ├── crop.py\n",
    "- [x] │   ├── deform.py\n",
    "- [x] │   ├── external.py\n",
    "- [x] │   ├── geometry.py\n",
    "- [x] │   ├── imgaug_test.py\n",
    "- [x] │   ├── imgproc.py\n",
    "- [x] │   ├── \\_\\_init\\_\\_.py\n",
    "- [x] │   ├── meta.py\n",
    "- [x] │   ├── misc.py\n",
    "- [x] │   ├── noise.py\n",
    "- [x] │   ├── paste.py\n",
    "- [x] │   └── transform.py\n",
    "- [x] ├── dataset\n",
    "- [x] │   ├── bsds500.py\n",
    "- [x] │   ├── caltech101.py\n",
    "- [x] │   ├── cifar.py\n",
    "- [x] │   ├── ilsvrc.py\n",
    "- [x] │   ├── \\_\\_init\\_\\_.py\n",
    "- [x] │   ├── mnist.py\n",
    "- [x] │   └── svhn.py"
   ]
  },
  {
   "cell_type": "code",
   "execution_count": null,
   "id": "3c2d087a",
   "metadata": {},
   "outputs": [],
   "source": []
  },
  {
   "cell_type": "code",
   "execution_count": null,
   "id": "42cd6a72",
   "metadata": {},
   "outputs": [],
   "source": []
  },
  {
   "cell_type": "code",
   "execution_count": null,
   "id": "dec92dce",
   "metadata": {},
   "outputs": [],
   "source": []
  },
  {
   "cell_type": "code",
   "execution_count": null,
   "id": "574ec761",
   "metadata": {},
   "outputs": [],
   "source": []
  },
  {
   "cell_type": "code",
   "execution_count": null,
   "id": "71c1724e",
   "metadata": {},
   "outputs": [],
   "source": []
  }
 ],
 "metadata": {
  "kernelspec": {
   "display_name": "Python 3",
   "language": "python",
   "name": "python3"
  },
  "language_info": {
   "codemirror_mode": {
    "name": "ipython",
    "version": 3
   },
   "file_extension": ".py",
   "mimetype": "text/x-python",
   "name": "python",
   "nbconvert_exporter": "python",
   "pygments_lexer": "ipython3",
   "version": "3.6.9"
  }
 },
 "nbformat": 4,
 "nbformat_minor": 5
}
