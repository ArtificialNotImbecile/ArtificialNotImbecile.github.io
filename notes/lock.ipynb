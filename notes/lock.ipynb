{
 "cells": [
  {
   "cell_type": "code",
   "execution_count": 1,
   "id": "30e44ab3",
   "metadata": {},
   "outputs": [],
   "source": [
    "from threading import RLock, Thread\n",
    "from wrapt import synchronized\n",
    "\n",
    "class A:\n",
    "    def __init__(self, use_lock=True):\n",
    "        self.lock = RLock() # if we use Rock, then run_a will stuck since run_b will never acquire the lock\n",
    "        self.use_lock = use_lock\n",
    "    \n",
    "    def run_a(self):\n",
    "        def f_a():\n",
    "            print('start a')\n",
    "            time.sleep(10)\n",
    "            self.run_b(by='a')\n",
    "            print('finish a')\n",
    "        if self.use_lock:\n",
    "            with self.lock:\n",
    "                f_a()\n",
    "        else:\n",
    "            f_a()\n",
    "\n",
    "    def run_b(self, by='b'):\n",
    "        def f_b():\n",
    "            time.sleep(1)\n",
    "            print(f'run_b by {by}')\n",
    "        if self.use_lock:\n",
    "            with self.lock:\n",
    "                f_b()\n",
    "        else:\n",
    "            f_b()\n",
    "\n",
    "class A_Better_With_Lock:\n",
    "    \"\"\"\n",
    "    use synchronized klass decorator to create a lock automatically, same but much cleaner code \n",
    "    \"\"\"\n",
    "    def __init__(self):\n",
    "        pass\n",
    "    \n",
    "    @synchronized\n",
    "    def run_a(self):\n",
    "        def f_a():\n",
    "            print('start a')\n",
    "            time.sleep(10)\n",
    "            self.run_b(by='a')\n",
    "            print('finish a')\n",
    "        f_a()\n",
    "\n",
    "    @synchronized\n",
    "    def run_b(self, by='b'):\n",
    "        def f_b():\n",
    "            time.sleep(1)\n",
    "            print(f'run_b by {by}')\n",
    "        f_b()\n",
    "\n",
    "\n"
   ]
  },
  {
   "cell_type": "code",
   "execution_count": 2,
   "id": "6c0537b0",
   "metadata": {},
   "outputs": [
    {
     "name": "stdout",
     "output_type": "stream",
     "text": [
      "start a\n",
      "run_b by a\n",
      "finish a\n",
      "run_b by b\n"
     ]
    }
   ],
   "source": [
    "a = A(use_lock=True)\n",
    "t1 = Thread(target=a.run_a)\n",
    "t1.start()\n",
    "\n",
    "t2 = Thread(target=a.run_b)\n",
    "t2.start()\n"
   ]
  },
  {
   "cell_type": "code",
   "execution_count": 3,
   "id": "a94cd354",
   "metadata": {},
   "outputs": [
    {
     "name": "stdout",
     "output_type": "stream",
     "text": [
      "start a\n",
      "run_b by b\n",
      "run_b by a\n",
      "finish a\n"
     ]
    }
   ],
   "source": [
    "a = A(use_lock=False)\n",
    "t1 = Thread(target=a.run_a)\n",
    "t1.start()\n",
    "\n",
    "t2 = Thread(target=a.run_b)\n",
    "t2.start()\n"
   ]
  }
 ],
 "metadata": {
  "kernelspec": {
   "display_name": "Python 3",
   "language": "python",
   "name": "python3"
  },
  "language_info": {
   "codemirror_mode": {
    "name": "ipython",
    "version": 3
   },
   "file_extension": ".py",
   "mimetype": "text/x-python",
   "name": "python",
   "nbconvert_exporter": "python",
   "pygments_lexer": "ipython3",
   "version": "3.6.9"
  }
 },
 "nbformat": 4,
 "nbformat_minor": 5
}
