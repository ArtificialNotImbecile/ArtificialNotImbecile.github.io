{
 "cells": [
  {
   "cell_type": "markdown",
   "metadata": {},
   "source": [
    "# 2021-1112\n",
    "[yield from](https://stackoverflow.com/questions/9708902/in-practice-what-are-the-main-uses-for-the-new-yield-from-syntax-in-python-3) and coroutines in python, from [tensorpack code](https://github.com/tensorpack/tensorpack/blob/master/tensorpack/dataflow/common.py#L50)\n",
    "\n",
    "Most importantly, I now know [David Beazley](http://www.dabeaz.com/) "
   ]
  },
  {
   "cell_type": "markdown",
   "metadata": {},
   "source": [
    "# 2021-1129\n",
    "[pathlib](https://docs.python.org/3/library/pathlib.html#correspondence-to-tools-in-the-os-module) , see Correspondence to tools in the os module for reference usage   "
   ]
  },
  {
   "cell_type": "markdown",
   "metadata": {},
   "source": [
    "# 2021-1216\n",
    "\n",
    "## 1. [rb vs r in open()](https://stackoverflow.com/a/3262082/4999289)  \n",
    "### see also [1](https://stackoverflow.com/questions/6224052/what-is-the-difference-between-a-string-and-a-byte-string) and [2](https://stackoverflow.com/questions/6269765/what-does-the-b-character-do-in-front-of-a-string-literal)  \n",
    "we have 'binary' & 'text' mode since different OS use End of Line flag,  \n",
    " - linux use '\\n'  \n",
    " - windows use '\\r\\n'\n",
    " - mac use '\\r'  \n",
    "\n",
    "The creator of C patched this for users for portability concern.  \n",
    "In linux, for example:\n",
    "```python \n",
    "with open('a.txt', 'w') as f:\n",
    "    f.write('a\\r\\n')\n",
    "\n",
    "with open('a.txt', 'r') as f:\n",
    "    a = f.read()\n",
    "    assert a == \"a\\n\" # NO \\r\n",
    "```\n",
    "But not all files are text and are sensitive to this replacement,  \n",
    "so they provide a way to read bytes without this conversion.   \n",
    "And that's it, there is no mystery behind 'r' and 'rb'  \n",
    "```python\n",
    "with open('a.txt', 'r') as f:\n",
    "    data_s = f.read()\n",
    "\n",
    "with open('a.txt', 'rb') as f:\n",
    "    data_b = f.read()\n",
    "#      b'a\\n'                 != b'a\\r\\n'\n",
    "assert data_s.encode('utf-8') != data_b\n",
    "\n",
    "```\n",
    "## 2. some python representation\n",
    "```python\n",
    "# https://docs.python.org/3/reference/lexical_analysis.html#string-literals\n",
    "# https://stackoverflow.com/questions/2670639/why-are-hexadecimal-numbers-prefixed-with-0x\n",
    "# octal use 0o\n",
    "# hex, 0=0, ..., 9=9, a=10, b=11, c=12, d=13, e=14, f=15\n",
    "# so ff=1x15 + 16x15 = 17x15=255\n",
    "# \\xhh Character with hex value hh, one hex(0-15) require 4(2**4=16) bits to represent\n",
    "# \\uxxxx Character with 16-bit hex value xxxx\n",
    "# \\Uxxxxxxxx Character with 32-bit hex value xxxxxxxx\n",
    "\n",
    "a = ord('\\xff')\n",
    "b = ord('\\u00ff')\n",
    "print(a==b, a) # True, 255\n",
    "\n",
    "a = chr(255)\n",
    "print(ascii(a)) # '\\xff'\n",
    "print(hex(ord(a))) # 0xff\n",
    "\n",
    "# np.frombuffer is like multi-char version of ord which split whole bytes according to dtype\n",
    "data = b'\\x01\\x02'\n",
    "np.frombuffer(data, dtype=np.uint8) # uint8 use one byte, so we have [hex(01),hex(02)] = [1,2]\n",
    "np.frombuffer(data, dtype=np.uint16) # uint16 use two bytes, so we have hex(0201) = 1x16**0 + 2x16**2 = 513(Because we use little-endian byte-order in x86 machine)\n",
    "\n",
    "\n",
    "# python print will escape like \\a, \\b \\0, etc\n",
    "data = b'\\b' \n",
    "data.decode('utf-8') == '\\x08'\n",
    "assert '\\x08' == '\\b' # unicode point of backspace is 8(x08)\n",
    "\n",
    "```\n",
    "\n",
    "## 3. byte strings are integers between 0-255(important argument), because a byte=8bits=0-255\n",
    "```python\n",
    "b'b' == bytes([98])\n",
    "assert b'b'[0] == 98\n",
    "assert b'\\x41' == b'A' # the lhs is more accurate, rhs is more readable\n",
    "assert b'\\x41'[0] == ord('A')\n",
    "# because chr(0x2c) == \",\" so that we can use  b',' instead of b'\\x2c', which is not that readable...\n",
    "assert int.from_bytes(b'\\x2c\\x01', 'little') == int.from_bytes(b',\\x01', 'little')\n",
    "```"
   ]
  },
  {
   "cell_type": "markdown",
   "metadata": {},
   "source": [
    "# 2022-01-26"
   ]
  },
  {
   "cell_type": "markdown",
   "metadata": {},
   "source": [
    "[weather augmentation](https://github.com/UjjwalSaxena/Automold--Road-Augmentation-Library/blob/master/Automold.py)\n",
    " - HSL\n",
    " - HSV\n",
    " - YUV"
   ]
  },
  {
   "cell_type": "code",
   "execution_count": null,
   "metadata": {},
   "outputs": [],
   "source": []
  },
  {
   "cell_type": "code",
   "execution_count": null,
   "metadata": {},
   "outputs": [],
   "source": []
  }
 ],
 "metadata": {
  "kernelspec": {
   "display_name": "Python 3",
   "language": "python",
   "name": "python3"
  },
  "language_info": {
   "codemirror_mode": {
    "name": "ipython",
    "version": 3
   },
   "file_extension": ".py",
   "mimetype": "text/x-python",
   "name": "python",
   "nbconvert_exporter": "python",
   "pygments_lexer": "ipython3",
   "version": "3.6.10"
  }
 },
 "nbformat": 4,
 "nbformat_minor": 5
}
