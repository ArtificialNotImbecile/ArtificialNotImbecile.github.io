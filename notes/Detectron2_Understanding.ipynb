{
 "cells": [
  {
   "cell_type": "markdown",
   "metadata": {},
   "source": [
    "# lr_scheduler 理解"
   ]
  },
  {
   "cell_type": "code",
   "execution_count": 112,
   "metadata": {},
   "outputs": [],
   "source": [
    "from bisect import bisect_right\n",
    "import math\n",
    "import matplotlib.pyplot as plt\n",
    "import torch"
   ]
  },
  {
   "cell_type": "code",
   "execution_count": 239,
   "metadata": {},
   "outputs": [],
   "source": [
    "from detectron2.solver import WarmupCosineLR, WarmupMultiStepLR"
   ]
  },
  {
   "cell_type": "code",
   "execution_count": 323,
   "metadata": {},
   "outputs": [],
   "source": [
    "optimizer = torch.optim.Adam(model.parameters())\n",
    "scheduler = WarmupMultiStepLR(optimizer, [60000,80000])"
   ]
  },
  {
   "cell_type": "code",
   "execution_count": 324,
   "metadata": {},
   "outputs": [
    {
     "name": "stdout",
     "output_type": "stream",
     "text": [
      "1e-06 0.0001009\n"
     ]
    },
    {
     "data": {
      "image/png": "[encoded data removed]",
      "text/plain": [
       "<Figure size 432x288 with 1 Axes>"
      ]
     },
     "metadata": {
      "needs_background": "light"
     },
     "output_type": "display_data"
    }
   ],
   "source": [
    "class NullModule(torch.nn.Module):\n",
    "    def __init__(self):\n",
    "        super().__init__()\n",
    "        self.fc = torch.nn.Linear(1,1)\n",
    "    \n",
    "\n",
    "model = NullModule()\n",
    "\n",
    "def plot_lr(scheduler, step=200000):\n",
    "    lrs = []\n",
    "    for i in range(step):\n",
    "        lr = optimizer.param_groups[0]['lr']\n",
    "        scheduler.step()\n",
    "        lrs.append(lr)\n",
    "    print(lrs[0], lrs[100])\n",
    "    plt.plot(lrs)\n",
    "    plt.show()\n",
    "plot_lr(scheduler)"
   ]
  },
  {
   "cell_type": "code",
   "execution_count": 292,
   "metadata": {},
   "outputs": [],
   "source": [
    "def _get_warmup_factor_at_iter(\n",
    "    method: str, iter: int, warmup_iters: int, warmup_factor: float\n",
    ") -> float:\n",
    "    \"\"\"\n",
    "    Return the learning rate warmup factor at a specific iteration.\n",
    "    See :paper:`ImageNet in 1h` for more details.\n",
    "\n",
    "    Args:\n",
    "        method (str): warmup method; either \"constant\" or \"linear\".\n",
    "        iter (int): iteration at which to calculate the warmup factor.\n",
    "        warmup_iters (int): the number of warmup iterations.\n",
    "        warmup_factor (float): the base warmup factor (the meaning changes according\n",
    "            to the method used).\n",
    "\n",
    "    Returns:\n",
    "        float: the effective warmup factor at the given iteration.\n",
    "    \"\"\"\n",
    "    if iter >= warmup_iters:\n",
    "        return 1.0\n",
    "\n",
    "    if method == \"constant\":\n",
    "        return warmup_factor\n",
    "    elif method == \"linear\":\n",
    "        alpha = iter / warmup_iters\n",
    "        return warmup_factor * (1 - alpha) + alpha\n",
    "    else:\n",
    "        raise ValueError(\"Unknown warmup method: {}\".format(method))"
   ]
  },
  {
   "cell_type": "code",
   "execution_count": 328,
   "metadata": {
    "scrolled": true
   },
   "outputs": [
    {
     "data": {
      "text/plain": [
       "[<matplotlib.lines.Line2D at 0x7f19fc9559e8>]"
      ]
     },
     "execution_count": 328,
     "metadata": {},
     "output_type": "execute_result"
    },
    {
     "data": {
      "image/png": "[encoded data removed]",
      "text/plain": [
       "<Figure size 432x288 with 1 Axes>"
      ]
     },
     "metadata": {
      "needs_background": "light"
     },
     "output_type": "display_data"
    }
   ],
   "source": [
    "base_lr = 0.00025\n",
    "warmup_factor = 1.0 / 1000\n",
    "warmup_iters = 1000\n",
    "gamma=0.1\n",
    "def step_lr(step):\n",
    "    warmup_factor1 = _get_warmup_factor_at_iter('linear', step, warmup_iters=warmup_iters, warmup_factor=warmup_factor)\n",
    "    #milestones, <1000(第一个mile stone) warmup起作用,这时候gamma**0, 所以只有warmup项! \n",
    "    # >1000后, milestone开始起作用, 每一个milestone后开始按gamma指数减少!\n",
    "    return base_lr * warmup_factor1 * gamma ** bisect_right([2000, 3000], step) \n",
    "lrs = [step_lr(step) for step in range(0, 4000)]\n",
    "plt.plot(lrs)"
   ]
  },
  {
   "cell_type": "markdown",
   "metadata": {},
   "source": [
    "# data.transform"
   ]
  },
  {
   "cell_type": "code",
   "execution_count": null,
   "metadata": {},
   "outputs": [],
   "source": [
    "from detectron2.data import transforms as T\n",
    "# Define a sequence of augmentations:\n",
    "augs = T.AugmentationList([\n",
    "    T.RandomBrightness(0.9, 1.1),\n",
    "    T.RandomFlip(prob=0.5),\n",
    "    T.RandomCrop(\"absolute\", (640, 640))\n",
    "])  # type: T.Augmentation\n",
    "\n",
    "# Define the augmentation input (\"image\" required, others optional):\n",
    "input = T.AugInput(image, boxes=boxes, sem_seg=sem_seg)\n",
    "# Apply the augmentation:\n",
    "transform = augs(input)  # type: T.Transform\n",
    "image_transformed = input.image  # new image\n",
    "sem_seg_transformed = input.sem_seg  # new semantic segmentation\n",
    "\n",
    "# For any extra data that needs to be augmented together, use transform, e.g.:\n",
    "image2_transformed = transform.apply_image(image2)\n",
    "polygons_transformed = transform.apply_polygons(polygons)"
   ]
  },
  {
   "cell_type": "markdown",
   "metadata": {},
   "source": [
    "# engine--done\n"
   ]
  },
  {
   "cell_type": "markdown",
   "metadata": {},
   "source": [
    "# evaluation--done-rough"
   ]
  },
  {
   "cell_type": "markdown",
   "metadata": {},
   "source": [
    "# export--not-done"
   ]
  },
  {
   "cell_type": "markdown",
   "metadata": {},
   "source": [
    "# layers--done-rough"
   ]
  },
  {
   "cell_type": "markdown",
   "metadata": {},
   "source": [
    "# modeling--need-to-be-done-in-great-detail"
   ]
  },
  {
   "cell_type": "code",
   "execution_count": 338,
   "metadata": {},
   "outputs": [],
   "source": [
    "from typing import *"
   ]
  },
  {
   "cell_type": "code",
   "execution_count": 339,
   "metadata": {},
   "outputs": [],
   "source": [
    "def _create_grid_offsets(size: List[int], stride: int, offset: float, device: torch.device):\n",
    "    grid_height, grid_width = size\n",
    "    shifts_x = torch.arange(\n",
    "        offset * stride, grid_width * stride, step=stride, dtype=torch.float32, device=device\n",
    "    )\n",
    "    shifts_y = torch.arange(\n",
    "        offset * stride, grid_height * stride, step=stride, dtype=torch.float32, device=device\n",
    "    )\n",
    "\n",
    "    shift_y, shift_x = torch.meshgrid(shifts_y, shifts_x)\n",
    "    shift_x = shift_x.reshape(-1)\n",
    "    shift_y = shift_y.reshape(-1)\n",
    "    return shift_x, shift_y"
   ]
  },
  {
   "cell_type": "code",
   "execution_count": 374,
   "metadata": {},
   "outputs": [
    {
     "data": {
      "text/plain": [
       "(tensor([0., 4.]), tensor([0., 0.]))"
      ]
     },
     "execution_count": 374,
     "metadata": {},
     "output_type": "execute_result"
    }
   ],
   "source": [
    "_create_grid_offsets((1,2), 4, 0, 'cpu')"
   ]
  },
  {
   "cell_type": "code",
   "execution_count": null,
   "metadata": {},
   "outputs": [],
   "source": []
  },
  {
   "cell_type": "code",
   "execution_count": null,
   "metadata": {},
   "outputs": [],
   "source": []
  },
  {
   "cell_type": "code",
   "execution_count": null,
   "metadata": {},
   "outputs": [],
   "source": []
  },
  {
   "cell_type": "code",
   "execution_count": null,
   "metadata": {},
   "outputs": [],
   "source": []
  },
  {
   "cell_type": "code",
   "execution_count": null,
   "metadata": {},
   "outputs": [],
   "source": []
  },
  {
   "cell_type": "code",
   "execution_count": null,
   "metadata": {},
   "outputs": [],
   "source": []
  }
 ],
 "metadata": {
  "kernelspec": {
   "display_name": "Python 3",
   "language": "python",
   "name": "python3"
  },
  "language_info": {
   "codemirror_mode": {
    "name": "ipython",
    "version": 3
   },
   "file_extension": ".py",
   "mimetype": "text/x-python",
   "name": "python",
   "nbconvert_exporter": "python",
   "pygments_lexer": "ipython3",
   "version": "3.6.9"
  }
 },
 "nbformat": 4,
 "nbformat_minor": 4
}
