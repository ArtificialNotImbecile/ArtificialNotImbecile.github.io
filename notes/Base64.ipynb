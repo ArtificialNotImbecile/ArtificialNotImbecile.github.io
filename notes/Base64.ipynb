{
 "cells": [
  {
   "cell_type": "markdown",
   "id": "d4fe8c7c",
   "metadata": {},
   "source": [
    "# Base64\n",
    "\n",
    "[Why](https://stackoverflow.com/questions/3538021/why-do-we-use-base64)  \n",
    "[How](https://en.wikipedia.org/wiki/Base64)\n",
    "\n",
    "NOTE, base64 works in **bytes** domain, nothing to do  with strings, so we can use utf-8, ascii, utf-16, whatever, as long as we tell the receiver which to use\n",
    "\n",
    "- Encode: binary -> base64\n",
    "- Decode: base64 -> binary\n",
    "\n",
    "# Base10\n",
    "just binary-to-decimal\n",
    "\n",
    "# Base16\n",
    "just binary-to-hexidecimal"
   ]
  },
  {
   "cell_type": "code",
   "execution_count": 2,
   "id": "0674674a",
   "metadata": {},
   "outputs": [
    {
     "name": "stdout",
     "output_type": "stream",
     "text": [
      "Mine:  b'c3NkZmRzZg=='\n",
      "Correct:  b'c3NkZmRzZg=='\n"
     ]
    }
   ],
   "source": [
    "import base64\n",
    "def base64_encode(bts):\n",
    "    \"Simple implementation with padding\"\n",
    "    \n",
    "    letters_upper = 'ABCDEFGHIJKLMNOPQRSTUVWXYZ'\n",
    "    letters_lower = letters_upper.lower()\n",
    "    number = '0123456789'\n",
    "    addtional = '+/'\n",
    "    table = letters_upper + letters_lower + number + addtional\n",
    "    padding_str = '='\n",
    "    table += padding_str\n",
    "        \n",
    "    x = [i for i in bts]\n",
    "    combine = \"\".join([bin(x)[2:].zfill(8) for x in x])\n",
    "    \n",
    "    # 2^6 = 64\n",
    "    def pad_to_6(s):\n",
    "        padding = 6 - len(s)\n",
    "        s += '0'*padding\n",
    "        return s\n",
    "    # 4 x 6 bits = 24 bits = 3 bytes = 3 x 8 bits\n",
    "    # so we encode three bytes to four 6bits(exactly match 64 character set of base64)\n",
    "    split_n = [pad_to_6(combine[i:i+6]) for i in range(0, len(combine), 6)]\n",
    "    residual = len(split_n) % 4\n",
    "    if residual:\n",
    "        padding = 4 - residual\n",
    "        split_n.extend(['1000000']*padding) # we pad 64 because we add padding to the end of our table\n",
    "    encoded_idx = [int(s, 2) for s in split_n]\n",
    "    encoded_value = [table[i] for i in encoded_idx]\n",
    "    my_encoded = ''.join(encoded_value).encode('ascii')\n",
    "    print('Mine: ', my_encoded)\n",
    "    correct_encoded = base64.b64encode(bts)\n",
    "    print('Correct: ', correct_encoded)\n",
    "    assert my_encoded == correct_encoded\n",
    "\n",
    "base64_encode(b'ssdfdsf')"
   ]
  }
 ],
 "metadata": {
  "kernelspec": {
   "display_name": "Python 3",
   "language": "python",
   "name": "python3"
  },
  "language_info": {
   "codemirror_mode": {
    "name": "ipython",
    "version": 3
   },
   "file_extension": ".py",
   "mimetype": "text/x-python",
   "name": "python",
   "nbconvert_exporter": "python",
   "pygments_lexer": "ipython3",
   "version": "3.6.9"
  }
 },
 "nbformat": 4,
 "nbformat_minor": 5
}
