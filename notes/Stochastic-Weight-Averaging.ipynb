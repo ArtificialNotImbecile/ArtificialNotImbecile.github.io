{
 "cells": [
  {
   "cell_type": "code",
   "execution_count": null,
   "id": "75d8bf9d",
   "metadata": {},
   "outputs": [],
   "source": [
    "import os\n",
    "import copy\n",
    "os.environ['CUDA_VISIBLE_DEVICES'] = '1'\n",
    "\n",
    "import torch\n",
    "data_dir = epochs = '/notebooks/experimental/2021-kaggle-bms-image-to-text/2021-apr-07b/2021-apr-07b/result_l6/fold3/checkpoint/'\n",
    "pts = ['01185000_model.pth', '01178000_model.pth', '01162000_model.pth', '01156000_model.pth', '01150000_model.pth',\n",
    "       '01103000_model.pth', '01085000_model.pth', '01077000_model.pth', # pro\n",
    "       '01194000_model.pth', '01208000_model.pth', '01219000_model.pth', # pro max, lb=1.8(no swa 1.94)\n",
    "       '01240000_model.pth', '01249000_model.pth', '01253000_model.pth', '01260000_model.pth', '01275000_model.pth',\n",
    "       '01279000_model.pth', '01287000_model.pth', '01293000_model.pth', '01310000_model.pth', '01318000_model.pth',\n",
    "       '01335000_model.pth', '01338000_model.pth', # pro_max_plus, lb=1.73\n",
    "       '01354000_model.pth', '01358000_model.pth', '01366000_model.pth', '01371000_model.pth', '01375000_model.pth',\n",
    "       '01382000_model.pth', '01388000_model.pth', '01392000_model.pth', '01404000_model.pth', '01409000_model.pth',\n",
    "       '01419000_model.pth', '01424000_model.pth', '01429000_model.pth', '01436000_model.pth', '01442000_model.pth',\n",
    "       '01447000_model.pth', '01452000_model.pth', '01456000_model.pth', '01461000_model.pth', '01468000_model.pth',\n",
    "       '01475000_model.pth', '01484000_model.pth', '01493000_model.pth'\n",
    "       \n",
    "      ] \n",
    "pts_f = [data_dir + i for i in pts][20:]\n",
    "\n",
    "\n",
    "# if there is batchnorm, things become differently, caveats!\n",
    "def swa(ckpts, out_file, state_key):\n",
    "    params = [torch.load(ckpt, map_location='cpu')[state_key]  for ckpt in ckpts]\n",
    "    params_holder = copy.deepcopy(params[0])\n",
    "    for k in params_holder.keys():\n",
    "        mean_v = torch.mean(torch.stack([p[k] for p in params], dim=0), dim=0)\n",
    "        assert params_holder[k].shape==mean_v.shape, k\n",
    "        params_holder[k] = mean_v\n",
    "    torch.save({state_key:params_holder}, out_file)\n",
    "        \n",
    "swa(pts_f, data_dir+'swa_127s_pro_max_plus_t.pth', 'state_dict')"
   ]
  }
 ],
 "metadata": {
  "kernelspec": {
   "display_name": "Python 3",
   "language": "python",
   "name": "python3"
  },
  "language_info": {
   "codemirror_mode": {
    "name": "ipython",
    "version": 3
   },
   "file_extension": ".py",
   "mimetype": "text/x-python",
   "name": "python",
   "nbconvert_exporter": "python",
   "pygments_lexer": "ipython3",
   "version": "3.6.9"
  }
 },
 "nbformat": 4,
 "nbformat_minor": 5
}
